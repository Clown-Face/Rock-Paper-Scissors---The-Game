{
 "cells": [
  {
   "cell_type": "markdown",
   "id": "f0f8091e",
   "metadata": {},
   "source": [
    "## Rock/Paper/Scissors - The Game!"
   ]
  },
  {
   "cell_type": "markdown",
   "id": "49e3133f",
   "metadata": {},
   "source": [
    "__Step 1__: Initiate a list `game` with the options of either _Rock_ or _Paper_ or _Scissors_."
   ]
  },
  {
   "cell_type": "code",
   "execution_count": 1,
   "id": "0a8a68e8",
   "metadata": {},
   "outputs": [],
   "source": [
    "game = ['ROCK','PAPER','SCISSORS']"
   ]
  },
  {
   "cell_type": "markdown",
   "id": "57d6feec",
   "metadata": {},
   "source": [
    "__Step 2__: Import `randint` from `random` to generate a random number between 0 to 2."
   ]
  },
  {
   "cell_type": "code",
   "execution_count": 2,
   "id": "d72b1a9d",
   "metadata": {},
   "outputs": [],
   "source": [
    "from random import randint"
   ]
  },
  {
   "cell_type": "markdown",
   "id": "a58651fe",
   "metadata": {},
   "source": [
    "__Step 3__: Sett the `count` variable to `True`. _(This is in order to initiate the loop)_"
   ]
  },
  {
   "cell_type": "code",
   "execution_count": 3,
   "id": "afcdc9ba",
   "metadata": {},
   "outputs": [
    {
     "name": "stdout",
     "output_type": "stream",
     "text": [
      "Play Game (Y/N)? y\n"
     ]
    }
   ],
   "source": [
    "cont = True"
   ]
  },
  {
   "cell_type": "markdown",
   "id": "05f8fbc7",
   "metadata": {},
   "source": [
    "__Step 4__: Create a conditional loop which repeates until the answer is `No`."
   ]
  },
  {
   "cell_type": "markdown",
   "id": "451d17ed",
   "metadata": {},
   "source": [
    "In the loop, first a random selection from the list `game` is assigned to variable `computer`, _(Notice the `randint` is used to create a random integer between 0 and 2 (inclusive) which is used to index the list)._ An `if` condition is created for every selection of the user which is compared to the random selection of `computer` and the result is display accordingly. In the end, it is again asked whether to continue the game. This is ensure the while loop runs correctly."
   ]
  },
  {
   "cell_type": "code",
   "execution_count": 4,
   "id": "61b483e8",
   "metadata": {},
   "outputs": [
    {
     "name": "stdout",
     "output_type": "stream",
     "text": [
      "Rock, Paper or Scissors? rock\n",
      "Computer chose PAPER, You Lose!!\n",
      "--x--x--x--x--x--x--x--x--x--x--x--x--x--x--\n",
      "Play Again? (Y/N)y\n",
      "Rock, Paper or Scissors? paper\n",
      "Computer chose SCISSORS, You Lose!!\n",
      "--x--x--x--x--x--x--x--x--x--x--x--x--x--x--\n",
      "Play Again? (Y/N)y\n",
      "Rock, Paper or Scissors? scissors\n",
      "Computer chose ROCK, You Lose!!\n",
      "--x--x--x--x--x--x--x--x--x--x--x--x--x--x--\n",
      "Play Again? (Y/N)y\n",
      "Rock, Paper or Scissors? random\n",
      "Choose either rock or paper or scissors....\n",
      "--x--x--x--x--x--x--x--x--x--x--x--x--x--x--\n",
      "Play Again? (Y/N)n\n"
     ]
    }
   ],
   "source": [
    "while cont == True:\n",
    "    computer = game[randint(0,2)]\n",
    "    user_input = input('Rock, Paper or Scissors? ').strip().upper()\n",
    "    if user_input == computer:\n",
    "        print(\"Computer chose {}, It's a tie\".format(computer))\n",
    "    elif user_input == 'ROCK':\n",
    "        if computer == 'SCISSORS':\n",
    "            print('Computer chose {}, You Win. Congratualtions!!'.format(computer))\n",
    "        else:\n",
    "            print('Computer chose {}, You Lose!!'.format(computer))\n",
    "    elif user_input == 'PAPER':\n",
    "        if computer == 'ROCK':\n",
    "            print('Computer chose {}, You Win. Congratualtions!!'.format(computer))\n",
    "        else:\n",
    "            print('Computer chose {}, You Lose!!'.format(computer))\n",
    "    elif user_input == 'SCISSORS':\n",
    "        if computer == 'ROCK':\n",
    "            print('Computer chose {}, You Lose!!'.format(computer))\n",
    "        else:\n",
    "            print('Computer chose {}, You Win. Congratualtions!!'.format(computer))\n",
    "    else:\n",
    "        print('Choose either rock or paper or scissors....')\n",
    "    print('--x--x--x--x--x--x--x--x--x--x--x--x--x--x--')\n",
    "    choice = input('Play Again? (Y/N)').strip().upper()\n",
    "    if choice == 'N':\n",
    "        cont == False\n",
    "        print('Bye Bye!!!')"
   ]
  },
  {
   "cell_type": "code",
   "execution_count": null,
   "id": "c63fcff8",
   "metadata": {},
   "outputs": [],
   "source": []
  }
 ],
 "metadata": {
  "kernelspec": {
   "display_name": "Python 3",
   "language": "python",
   "name": "python3"
  },
  "language_info": {
   "codemirror_mode": {
    "name": "ipython",
    "version": 3
   },
   "file_extension": ".py",
   "mimetype": "text/x-python",
   "name": "python",
   "nbconvert_exporter": "python",
   "pygments_lexer": "ipython3",
   "version": "3.8.8"
  }
 },
 "nbformat": 4,
 "nbformat_minor": 5
}
